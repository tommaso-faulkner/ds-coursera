{
 "cells": [
  {
   "cell_type": "markdown",
   "id": "45fd7e1b-26a8-4761-b607-9113be5994fc",
   "metadata": {},
   "source": [
    "Introduction to Data Science Tools - Jupyter Notebook"
   ]
  },
  {
   "cell_type": "markdown",
   "id": "e4980b84-be87-4a07-a589-0ad09bbd5827",
   "metadata": {},
   "source": [
    "Data Science Tools and Ecosystem\n"
   ]
  },
  {
   "cell_type": "markdown",
   "id": "887bc138-3249-4bde-b589-c15aeba99839",
   "metadata": {},
   "source": [
    "In this notebook, Data Science Tools and Ecosystems are summarized."
   ]
  },
  {
   "cell_type": "markdown",
   "id": "018a9302-73ad-4271-b61b-731c5b9a8344",
   "metadata": {},
   "source": [
    "Some of the popular languages that Data Scientists use are:\n",
    "1. Python\n",
    "2. R\n",
    "3. SQL\n",
    "4. Julia"
   ]
  },
  {
   "cell_type": "markdown",
   "id": "5d4621f1-e579-4529-98e0-235e25fd73f3",
   "metadata": {},
   "source": [
    "Some of the commonly used libraries used by Data Scientists include:\n",
    "1. Pandas\n",
    "2. NumPy\n",
    "3. Matplotlib\n",
    "4. Scikit-learn\n"
   ]
  },
  {
   "cell_type": "markdown",
   "id": "9224a5e0-6f64-460d-8580-05b34c63a7ed",
   "metadata": {},
   "source": [
    "| Data Science Tools |\n",
    "|--------------------|\n",
    "| Jupyter Notebook   |\n",
    "| RStudio            |\n",
    "| Apache Zeppelin    |"
   ]
  },
  {
   "cell_type": "markdown",
   "id": "41135a4f-016e-4c3e-a9c4-1da1e15f92af",
   "metadata": {},
   "source": [
    "### Below are a few examples of evaluating arithmetic expressions in Python."
   ]
  },
  {
   "cell_type": "code",
   "execution_count": 1,
   "id": "4f748c65-1242-4b2f-90e4-f61656c37c38",
   "metadata": {},
   "outputs": [
    {
     "data": {
      "text/plain": [
       "17"
      ]
     },
     "execution_count": 1,
     "metadata": {},
     "output_type": "execute_result"
    }
   ],
   "source": [
    "(3 * 4) + 5"
   ]
  },
  {
   "cell_type": "code",
   "execution_count": 2,
   "id": "b0cb90e1-cd23-41b3-8c3d-85a998264dec",
   "metadata": {},
   "outputs": [
    {
     "data": {
      "text/plain": [
       "3.3333333333333335"
      ]
     },
     "execution_count": 2,
     "metadata": {},
     "output_type": "execute_result"
    }
   ],
   "source": [
    "200 / 60"
   ]
  },
  {
   "cell_type": "markdown",
   "id": "0414df84-fcef-498a-9ed3-84da419cff00",
   "metadata": {},
   "source": [
    "Some of the key objectives of this notebook are:\n",
    "- List popular languages for Data Science\n",
    "- List commonly used libraries\n",
    "- Demonstrate arithmetic expressions in Python\n",
    "- Share tools used by Data Scientists"
   ]
  },
  {
   "cell_type": "markdown",
   "id": "3c0dda73-54c2-4af0-97a6-e7a858e230c4",
   "metadata": {},
   "source": [
    "**Author:** Tommaso Faulkner"
   ]
  }
 ],
 "metadata": {
  "kernelspec": {
   "display_name": "Python 3 (ipykernel)",
   "language": "python",
   "name": "python3"
  },
  "language_info": {
   "codemirror_mode": {
    "name": "ipython",
    "version": 3
   },
   "file_extension": ".py",
   "mimetype": "text/x-python",
   "name": "python",
   "nbconvert_exporter": "python",
   "pygments_lexer": "ipython3",
   "version": "3.12.6"
  }
 },
 "nbformat": 4,
 "nbformat_minor": 5
}
